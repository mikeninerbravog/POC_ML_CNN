{
  "nbformat": 4,
  "nbformat_minor": 0,
  "metadata": {
    "colab": {
      "provenance": [],
      "authorship_tag": "ABX9TyMuLXxP16bInOW3HfBwmb3r",
      "include_colab_link": true
    },
    "kernelspec": {
      "name": "python3",
      "display_name": "Python 3"
    },
    "language_info": {
      "name": "python"
    }
  },
  "cells": [
    {
      "cell_type": "markdown",
      "metadata": {
        "id": "view-in-github",
        "colab_type": "text"
      },
      "source": [
        "<a href=\"https://colab.research.google.com/github/mikeninerbravog/POC_ML_CNN/blob/master/POC_ML_CNN.ipynb\" target=\"_parent\"><img src=\"https://colab.research.google.com/assets/colab-badge.svg\" alt=\"Open In Colab\"/></a>"
      ]
    },
    {
      "cell_type": "code",
      "execution_count": 1,
      "metadata": {
        "colab": {
          "base_uri": "https://localhost:8080/",
          "height": 35
        },
        "id": "j1tgPXaXGBKp",
        "outputId": "b34dd7db-e34e-4961-86c8-df537c4783cc"
      },
      "outputs": [
        {
          "output_type": "execute_result",
          "data": {
            "text/plain": [
              "'\\nTODO\\n'"
            ],
            "application/vnd.google.colaboratory.intrinsic+json": {
              "type": "string"
            }
          },
          "metadata": {},
          "execution_count": 1
        }
      ],
      "source": [
        "\"\"\"\n",
        "TODO\n",
        "\n",
        "#### **2. Diagnóstico de Doenças a partir de Exames Médicos**\n",
        "Hospitais usam redes neurais para **analisar imagens de exames como radiografias e tomografias**.\n",
        "- O modelo aprende a diferenciar **tecido saudável e áreas suspeitas**, como tumores.\n",
        "- Isso ajuda médicos a diagnosticar doenças **com mais rapidez e precisão**.\n",
        "\n",
        "\"\"\""
      ]
    },
    {
      "cell_type": "code",
      "source": [],
      "metadata": {
        "id": "4vvyhePVGFS0"
      },
      "execution_count": null,
      "outputs": []
    }
  ]
}